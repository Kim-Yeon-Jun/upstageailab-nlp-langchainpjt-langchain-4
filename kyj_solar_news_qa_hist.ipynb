{
  "cells": [
    {
      "cell_type": "code",
      "execution_count": 70,
      "metadata": {
        "colab": {
          "base_uri": "https://localhost:8080/"
        },
        "collapsed": true,
        "id": "ODJv-t7fuPKZ",
        "outputId": "a23d1fae-dc23-4758-cd7f-e73d8d048510"
      },
      "outputs": [],
      "source": [
        "# !pip install -qU langchain-teddynote\n",
        "# !pip install -qU \"langchain[openai]\"\n",
        "# !pip install langchain-community\n",
        "# !pip install -U langchain langchain-openai\n",
        "# !pip install faiss-cpu\n",
        "# !pip install -qU langchain-core langchain-upstage"
      ]
    },
    {
      "cell_type": "code",
      "execution_count": 71,
      "metadata": {
        "colab": {
          "base_uri": "https://localhost:8080/"
        },
        "id": "naNsFFois-AB",
        "outputId": "67b4f77b-dc12-4243-8055-a932ca03fd85"
      },
      "outputs": [],
      "source": [
        "import os\n",
        "import bs4\n",
        "from langchain import hub\n",
        "from langchain_text_splitters import RecursiveCharacterTextSplitter\n",
        "from langchain_community.document_loaders import WebBaseLoader\n",
        "from langchain_community.vectorstores import FAISS\n",
        "from langchain_core.output_parsers import StrOutputParser\n",
        "from langchain_core.runnables import RunnablePassthrough\n",
        "from langchain_openai import ChatOpenAI, OpenAIEmbeddings\n",
        "from langchain_upstage import ChatUpstage, UpstageEmbeddings\n",
        "from langchain_core.runnables.history import RunnableWithMessageHistory\n",
        "from langchain_community.chat_message_histories import ChatMessageHistory\n",
        "from operator import itemgetter"
      ]
    },
    {
      "cell_type": "code",
      "execution_count": 72,
      "metadata": {},
      "outputs": [
        {
          "data": {
            "text/plain": [
              "True"
            ]
          },
          "execution_count": 72,
          "metadata": {},
          "output_type": "execute_result"
        }
      ],
      "source": [
        "# API KEY를 환경변수로 관리하기 위한 설정 파일\n",
        "from dotenv import load_dotenv\n",
        "\n",
        "# API KEY 정보로드\n",
        "load_dotenv()"
      ]
    },
    {
      "cell_type": "code",
      "execution_count": 73,
      "metadata": {},
      "outputs": [],
      "source": [
        "upstage_api_key = os.getenv(\"UPSTAGE_API_KEY\")"
      ]
    },
    {
      "cell_type": "code",
      "execution_count": 74,
      "metadata": {
        "colab": {
          "base_uri": "https://localhost:8080/"
        },
        "id": "dDo71u1uyF6H",
        "outputId": "52486d71-c1d7-452c-9cfe-f53d92bc16d9"
      },
      "outputs": [
        {
          "name": "stdout",
          "output_type": "stream",
          "text": [
            "LangSmith 추적을 시작합니다.\n",
            "[프로젝트명]\n",
            "langchain_pjt_solar_hist\n"
          ]
        }
      ],
      "source": [
        "from langchain_teddynote import logging\n",
        "\n",
        "# 프로젝트 이름을 입력합니다.\n",
        "logging.langsmith(\"langchain_pjt_solar_hist\")"
      ]
    },
    {
      "cell_type": "code",
      "execution_count": 75,
      "metadata": {
        "colab": {
          "base_uri": "https://localhost:8080/"
        },
        "id": "zhPcksKkxwHH",
        "outputId": "5e6649df-9ee4-48a9-be9e-89e185f04e56"
      },
      "outputs": [
        {
          "data": {
            "text/plain": [
              "<bs4.element.SoupStrainer at 0x2c50c0e70d0>"
            ]
          },
          "execution_count": 75,
          "metadata": {},
          "output_type": "execute_result"
        }
      ],
      "source": [
        "bs4.SoupStrainer(\n",
        "    \"div\",\n",
        "    attrs={\"class\": [\"newsct_article _article_body\", \"media_end_head_title\"]},\n",
        ")"
      ]
    },
    {
      "cell_type": "code",
      "execution_count": 76,
      "metadata": {
        "colab": {
          "base_uri": "https://localhost:8080/"
        },
        "id": "Zi_xraJix6fy",
        "outputId": "3e0f0fa2-3f7c-4b93-bdd4-d765591003d6"
      },
      "outputs": [
        {
          "name": "stdout",
          "output_type": "stream",
          "text": [
            "문서의 수: 1\n"
          ]
        },
        {
          "data": {
            "text/plain": [
              "[Document(metadata={'source': 'https://n.news.naver.com/article/437/0000378416'}, page_content=\"\\n출산 직원에게 '1억원' 쏜다…회사의 파격적 저출생 정책\\n\\n\\n[앵커]올해 아이 낳을 계획이 있는 가족이라면 솔깃할 소식입니다. 정부가 저출생 대책으로 매달 주는 부모 급여, 0세 아이는 100만원으로 올렸습니다. 여기에 첫만남이용권, 아동수당까지 더하면 아이 돌까지 1년 동안 1520만원을 받습니다. 지자체도 경쟁하듯 지원에 나섰습니다. 인천시는 새로 태어난 아기, 18살될 때까지 1억원을 주겠다. 광주시도 17살될 때까지 7400만원 주겠다고 했습니다. 선거 때면 나타나서 아이 낳으면 현금 주겠다고 밝힌 사람이 있었죠. 과거에는 표만 노린 '황당 공약'이라는 비판이 따라다녔습니다. 그런데 지금은 출산율이 이보다 더 나쁠 수 없다보니, 이런 현금성 지원을 진지하게 정책화 하는 상황까지 온 겁니다. 게다가 기업들도 뛰어들고 있습니다. 이번에는 출산한 직원에게 단번에 1억원을 주겠다는 회사까지 나타났습니다.이상화 기자가 취재했습니다.[기자]한 그룹사가 오늘 파격적인 저출생 정책을 내놨습니다.2021년 이후 태어난 직원 자녀에 1억원씩, 총 70억원을 지원하고 앞으로도 이 정책을 이어가기로 했습니다.해당 기간에 연년생과 쌍둥이 자녀가 있으면 총 2억원을 받게 됩니다.[오현석/부영그룹 직원 : 아이 키우는 데 금전적으로 많이 힘든 세상이잖아요. 교육이나 생활하는 데 큰 도움이 될 거라 생각합니다.]만약 셋째까지 낳는 경우엔 국민주택을 제공하겠다는 뜻도 밝혔습니다.[이중근/부영그룹 회장 : 3년 이내에 세 아이를 갖는 분이 나올 것이고 따라서 주택을 제공할 수 있는 계기가 될 것으로 생각하고.][조용현/부영그룹 직원 : 와이프가 셋째도 갖고 싶어 했는데 경제적 부담 때문에 부정적이었거든요. (이제) 긍정적으로 생각할 수 있을 것 같습니다.]오늘 행사에서는, 회사가 제공하는 출산장려금은 받는 직원들의 세금 부담을 고려해 정부가 면세해달라는 제안도 나왔습니다.이같은 출산장려책은 점점 확산하는 분위기입니다.법정기간보다 육아휴직을 길게 주거나, 남성 직원의 육아휴직을 의무화한 곳도 있습니다.사내 어린이집을 밤 10시까지 운영하고 셋째를 낳으면 무조건 승진시켜 주기도 합니다.한 회사는 지난해 네쌍둥이를 낳은 직원에 의료비를 지원해 관심을 모았습니다.정부 대신 회사가 나서는 출산장려책이 사회적 분위기를 바꿀 거라는 기대가 커지는 가운데, 여력이 부족한 중소지원이 필요하다는 목소리도 나옵니다.[영상디자인 곽세미]\\n\\t\\t\\n\")]"
            ]
          },
          "execution_count": 76,
          "metadata": {},
          "output_type": "execute_result"
        }
      ],
      "source": [
        "# 뉴스기사 내용을 로드하고, 청크로 나누고, 인덱싱합니다.\n",
        "# https://n.news.naver.com/mnews/article/123/0002356246?sid=101\n",
        "loader = WebBaseLoader(\n",
        "    web_paths=(\"https://n.news.naver.com/article/437/0000378416\",),\n",
        "    bs_kwargs=dict(\n",
        "        parse_only=bs4.SoupStrainer(\n",
        "            \"div\",\n",
        "            attrs={\"class\": [\"newsct_article _article_body\", \"media_end_head_title\"]},\n",
        "        )\n",
        "    ),\n",
        ")\n",
        "\n",
        "docs = loader.load()\n",
        "print(f\"문서의 수: {len(docs)}\")\n",
        "docs"
      ]
    },
    {
      "cell_type": "code",
      "execution_count": 77,
      "metadata": {
        "colab": {
          "base_uri": "https://localhost:8080/"
        },
        "id": "Pasg7eqnxv7W",
        "outputId": "605d6f68-76f0-49e8-da49-1a85b60bbc7e"
      },
      "outputs": [
        {
          "data": {
            "text/plain": [
              "3"
            ]
          },
          "execution_count": 77,
          "metadata": {},
          "output_type": "execute_result"
        }
      ],
      "source": [
        "text_splitter = RecursiveCharacterTextSplitter(chunk_size=1000, chunk_overlap=100)\n",
        "\n",
        "splits = text_splitter.split_documents(docs)\n",
        "len(splits)"
      ]
    },
    {
      "cell_type": "code",
      "execution_count": 78,
      "metadata": {
        "id": "H6IMhr0vxv0o"
      },
      "outputs": [],
      "source": [
        "# 벡터스토어를 생성합니다.\n",
        "embeddings = UpstageEmbeddings(api_key=upstage_api_key, model=\"embedding-query\")\n",
        "vectorstore = FAISS.from_documents(documents=splits, embedding=embeddings)\n",
        "\n",
        "# 뉴스에 포함되어 있는 정보를 검색하고 생성합니다.\n",
        "retriever = vectorstore.as_retriever()"
      ]
    },
    {
      "cell_type": "code",
      "execution_count": 79,
      "metadata": {
        "id": "DY_qjjFTx9vf"
      },
      "outputs": [],
      "source": [
        "from langchain_core.prompts import PromptTemplate\n",
        "\n",
        "prompt = PromptTemplate.from_template(\n",
        "    \"\"\"당신은 질문-답변(Question-Answering)을 수행하는 친절한 AI 어시스턴트입니다. 당신의 임무는 주어진 문맥(context) 에서 주어진 질문(question) 에 답하는 것입니다.\n",
        "검색된 다음 문맥(context) 을 사용하여 질문(question) 에 답하세요. 만약, 주어진 문맥(context) 에서 답을 찾을 수 없다면, 답을 모른다면 `주어진 정보에서 질문에 대한 정보를 찾을 수 없습니다` 라고 답하세요.\n",
        "한글로 답변해 주세요. 단, 기술적인 용어나 이름은 번역하지 않고 그대로 사용해 주세요.\n",
        "\n",
        "#Previous Chat History:\n",
        "{chat_history}\n",
        "\n",
        "#Question:\n",
        "{question}\n",
        "\n",
        "#Context:\n",
        "{context}\n",
        "\n",
        "#Answer:\"\"\"\n",
        ")"
      ]
    },
    {
      "cell_type": "code",
      "execution_count": 98,
      "metadata": {
        "id": "DcBBsT9ix_rJ"
      },
      "outputs": [],
      "source": [
        "llm = ChatUpstage(model_name=\"solar-mini\")\n",
        "\n",
        "\n",
        "# 체인을 생성합니다.\n",
        "rag_chain = (\n",
        "    {\n",
        "        \"context\": itemgetter(\"question\") | retriever,\n",
        "        \"question\": itemgetter(\"question\"),\n",
        "        \"chat_history\": itemgetter(\"chat_history\"),\n",
        "    }\n",
        "    | prompt\n",
        "    | llm\n",
        "    | StrOutputParser()\n",
        ")"
      ]
    },
    {
      "cell_type": "code",
      "execution_count": 249,
      "metadata": {},
      "outputs": [],
      "source": [
        "# 세션 기록을 저장할 딕셔너리\n",
        "store = {}\n",
        "\n",
        "\n",
        "# 세션 ID를 기반으로 세션 기록을 가져오는 함수\n",
        "def get_session_history(session_ids):\n",
        "    print(f\"[대화 세션ID]: {session_ids}\")\n",
        "    if session_ids not in store:  # 세션 ID가 store에 없는 경우\n",
        "        # 새로운 ChatMessageHistory 객체를 생성하여 store에 저장\n",
        "        store[session_ids] = ChatMessageHistory()\n",
        "    # 현재 저장된 메시지 개수 출력\n",
        "    print(f\"저장된 메시지 개수 (변경 전): {len(store[session_ids].messages)}\")\n",
        "\n",
        "    # 메시지 리스트를 완전히 비우고 최근 10개만 유지\n",
        "    tmp = store[session_ids].messages[-8:]\n",
        "    store[session_ids].messages.clear()\n",
        "    store[session_ids].messages.extend(tmp)\n",
        "\n",
        "    # 변경 후 메시지 개수 출력\n",
        "    print(f\"저장된 메시지 개수 (변경 후): {len(store[session_ids].messages)}\")\n",
        "\n",
        "    return store[session_ids]  # 해당 세션 ID에 대한 세션 기록 반환\n",
        "\n",
        "\n",
        "# 대화를 기록하는 RAG 체인 생성\n",
        "rag_with_history = RunnableWithMessageHistory(\n",
        "    rag_chain,\n",
        "    get_session_history,  # 세션 기록을 가져오는 함수\n",
        "    input_messages_key=\"question\",  # 사용자의 질문이 템플릿 변수에 들어갈 key\n",
        "    history_messages_key=\"chat_history\",  # 기록 메시지의 키\n",
        ")"
      ]
    },
    {
      "cell_type": "code",
      "execution_count": 250,
      "metadata": {},
      "outputs": [
        {
          "name": "stdout",
          "output_type": "stream",
          "text": [
            "[대화 세션ID]: rag123\n",
            "저장된 메시지 개수 (변경 전): 0\n",
            "저장된 메시지 개수 (변경 후): 0\n"
          ]
        },
        {
          "data": {
            "text/plain": [
              "'부영그룹은 2021년 이후 태어난 직원 자녀에게 1억원씩 지원하고, 연년생과 쌍둥이 자녀가 있는 경우 총 2억원을 지원합니다. 또한, 셋째까지 낳는 경우엔 국민주택을 제공하겠다는 출산 장려 정책을 내놓았습니다.'"
            ]
          },
          "execution_count": 250,
          "metadata": {},
          "output_type": "execute_result"
        }
      ],
      "source": [
        "rag_with_history.invoke(\n",
        "    # 질문 입력\n",
        "    {\"question\": \"부영그룹의 출산 장려 정책은?\"},\n",
        "    # 세션 ID 기준으로 대화를 기록합니다.\n",
        "    config={\"configurable\": {\"session_id\": \"rag123\"}},\n",
        ")"
      ]
    },
    {
      "cell_type": "code",
      "execution_count": 251,
      "metadata": {},
      "outputs": [],
      "source": [
        "# 1\n",
        "#print(store[\"rag123\"].messages)"
      ]
    },
    {
      "cell_type": "code",
      "execution_count": 252,
      "metadata": {},
      "outputs": [
        {
          "name": "stdout",
          "output_type": "stream",
          "text": [
            "[대화 세션ID]: rag123\n",
            "저장된 메시지 개수 (변경 전): 2\n",
            "저장된 메시지 개수 (변경 후): 2\n"
          ]
        },
        {
          "data": {
            "text/plain": [
              "'A company is offering a generous low birthrate policy by giving 100 million won to employees who give birth. This policy has been implemented since 2021 and will continue in the future. For multiple births, such as twins or consecutive births, an additional 100 million won will be provided. Furthermore, if an employee has a third child, they will be given a national housing unit. This initiative aims to support employees in raising their children and is expected to encourage more employees to have more children. The company has suggested that the government exempt these birth encouragement funds from taxes to further assist employees.'"
            ]
          },
          "execution_count": 252,
          "metadata": {},
          "output_type": "execute_result"
        }
      ],
      "source": [
        "rag_with_history.invoke(\n",
        "    # 질문 입력\n",
        "    {\"question\": \"앞서 대답한 내용을 영어로 번역해서 알려줘.\"},\n",
        "    # 세션 ID 기준으로 대화를 기록합니다.\n",
        "    config={\"configurable\": {\"session_id\": \"rag123\"}},\n",
        ")"
      ]
    },
    {
      "cell_type": "code",
      "execution_count": 253,
      "metadata": {},
      "outputs": [
        {
          "name": "stdout",
          "output_type": "stream",
          "text": [
            "[대화 세션ID]: rag123\n",
            "저장된 메시지 개수 (변경 전): 4\n",
            "저장된 메시지 개수 (변경 후): 4\n"
          ]
        },
        {
          "data": {
            "text/plain": [
              "'주어진 정보에서 질문에 대한 정보를 찾을 수 없습니다.'"
            ]
          },
          "execution_count": 253,
          "metadata": {},
          "output_type": "execute_result"
        }
      ],
      "source": [
        "rag_with_history.invoke(\n",
        "    # 질문 입력\n",
        "    {\"question\": \"육아휴직과 관련한 내용 알려줘.\"},\n",
        "    # 세션 ID 기준으로 대화를 기록합니다.\n",
        "    config={\"configurable\": {\"session_id\": \"rag123\"}},\n",
        ")"
      ]
    },
    {
      "cell_type": "code",
      "execution_count": 254,
      "metadata": {},
      "outputs": [
        {
          "name": "stdout",
          "output_type": "stream",
          "text": [
            "[대화 세션ID]: rag123\n",
            "저장된 메시지 개수 (변경 전): 6\n",
            "저장된 메시지 개수 (변경 후): 6\n"
          ]
        },
        {
          "data": {
            "text/plain": [
              "'셋째까지 낳는 경우 국민주택을 제공받을 수 있습니다.'"
            ]
          },
          "execution_count": 254,
          "metadata": {},
          "output_type": "execute_result"
        }
      ],
      "source": [
        "rag_with_history.invoke(\n",
        "    # 질문 입력\n",
        "    {\"question\": \"국민주택을 제공해주는 조건이 뭔지 알려줘.\"},\n",
        "    # 세션 ID 기준으로 대화를 기록합니다.\n",
        "    config={\"configurable\": {\"session_id\": \"rag123\"}},\n",
        ")"
      ]
    },
    {
      "cell_type": "code",
      "execution_count": 255,
      "metadata": {},
      "outputs": [
        {
          "name": "stdout",
          "output_type": "stream",
          "text": [
            "[대화 세션ID]: rag123\n",
            "저장된 메시지 개수 (변경 전): 8\n",
            "저장된 메시지 개수 (변경 후): 8\n"
          ]
        },
        {
          "data": {
            "text/plain": [
              "'뉴스를 취재한 기자에 대한 정보는 제공되지 않습니다.'"
            ]
          },
          "execution_count": 255,
          "metadata": {},
          "output_type": "execute_result"
        }
      ],
      "source": [
        "rag_with_history.invoke(\n",
        "    # 질문 입력\n",
        "    {\"question\": \"이 뉴스를 취재한 기자에 대해서 알려줘.\"},\n",
        "    # 세션 ID 기준으로 대화를 기록합니다.\n",
        "    config={\"configurable\": {\"session_id\": \"rag123\"}},\n",
        ")"
      ]
    },
    {
      "cell_type": "code",
      "execution_count": 256,
      "metadata": {},
      "outputs": [
        {
          "name": "stdout",
          "output_type": "stream",
          "text": [
            "[대화 세션ID]: rag123\n",
            "저장된 메시지 개수 (변경 전): 10\n",
            "저장된 메시지 개수 (변경 후): 8\n"
          ]
        },
        {
          "data": {
            "text/plain": [
              "'질문 리스트:\\n1. 앞서 대답한 내용을 영어로 번역해서 알려줘.\\n2. 육아휴직과 관련한 내용 알려줘.\\n3. 국민주택을 제공해주는 조건이 뭔지 알려줘.\\n4. 이 뉴스를 취재한 기자에 대해서 알려줘.'"
            ]
          },
          "execution_count": 256,
          "metadata": {},
          "output_type": "execute_result"
        }
      ],
      "source": [
        "rag_with_history.invoke(\n",
        "    # 질문 입력\n",
        "    {\"question\": \"내가 어떤걸 물어봤었는지 기억하면, 그 질문들을 순서대로 알려줘.\"},\n",
        "    # 세션 ID 기준으로 대화를 기록합니다.\n",
        "    config={\"configurable\": {\"session_id\": \"rag123\"}},\n",
        ")"
      ]
    },
    {
      "cell_type": "code",
      "execution_count": 257,
      "metadata": {},
      "outputs": [
        {
          "name": "stdout",
          "output_type": "stream",
          "text": [
            "[대화 세션ID]: rag123\n",
            "저장된 메시지 개수 (변경 전): 10\n",
            "저장된 메시지 개수 (변경 후): 8\n"
          ]
        },
        {
          "data": {
            "text/plain": [
              "'셋째까지 낳는 경우 국민주택을 제공받을 수 있습니다.'"
            ]
          },
          "execution_count": 257,
          "metadata": {},
          "output_type": "execute_result"
        }
      ],
      "source": [
        "rag_with_history.invoke(\n",
        "    # 질문 입력\n",
        "    {\"question\": \"2억원을 주는 조건이 뭔지 알려줘.\"},\n",
        "    # 세션 ID 기준으로 대화를 기록합니다.\n",
        "    config={\"configurable\": {\"session_id\": \"rag123\"}},\n",
        ")"
      ]
    },
    {
      "cell_type": "code",
      "execution_count": 258,
      "metadata": {},
      "outputs": [
        {
          "name": "stdout",
          "output_type": "stream",
          "text": [
            "[대화 세션ID]: rag123\n",
            "저장된 메시지 개수 (변경 전): 10\n",
            "저장된 메시지 개수 (변경 후): 8\n"
          ]
        },
        {
          "data": {
            "text/plain": [
              "'질문 리스트:\\n1. 앞서 대답한 내용을 영어로 번역해서 알려줘.\\n2. 육아휴직과 관련한 내용 알려줘.\\n3. 국민주택을 제공해주는 조건이 뭔지 알려줘.\\n4. 이 뉴스를 취재한 기자에 대해서 알려줘.\\n5. 2억원을 주는 조건이 뭔지 알려줘.'"
            ]
          },
          "execution_count": 258,
          "metadata": {},
          "output_type": "execute_result"
        }
      ],
      "source": [
        "rag_with_history.invoke(\n",
        "    # 질문 입력\n",
        "    {\"question\": \"내가 어떤걸 물어봤었는지 기억하면, 그 질문들을 순서대로 알려줘.\"},\n",
        "    # 세션 ID 기준으로 대화를 기록합니다.\n",
        "    config={\"configurable\": {\"session_id\": \"rag123\"}},\n",
        ")"
      ]
    },
    {
      "cell_type": "code",
      "execution_count": 259,
      "metadata": {},
      "outputs": [
        {
          "data": {
            "text/plain": [
              "HumanMessage(content='내가 어떤걸 물어봤었는지 기억하면, 그 질문들을 순서대로 알려줘.', additional_kwargs={}, response_metadata={})"
            ]
          },
          "execution_count": 259,
          "metadata": {},
          "output_type": "execute_result"
        }
      ],
      "source": [
        "store[\"rag123\"].messages[4]"
      ]
    }
  ],
  "metadata": {
    "colab": {
      "provenance": []
    },
    "kernelspec": {
      "display_name": "py3_11_9",
      "language": "python",
      "name": "python3"
    },
    "language_info": {
      "codemirror_mode": {
        "name": "ipython",
        "version": 3
      },
      "file_extension": ".py",
      "mimetype": "text/x-python",
      "name": "python",
      "nbconvert_exporter": "python",
      "pygments_lexer": "ipython3",
      "version": "3.11.9"
    }
  },
  "nbformat": 4,
  "nbformat_minor": 0
}
